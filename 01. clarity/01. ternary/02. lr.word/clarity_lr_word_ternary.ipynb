{
 "cells": [
  {
   "cell_type": "code",
   "execution_count": 1,
   "metadata": {},
   "outputs": [],
   "source": [
    "#Auxiliares\n",
    "import os\n",
    "import pickle\n",
    "from time import time\n",
    "from datetime import datetime\n",
    "from json import dumps\n",
    "\n",
    "#Dados\n",
    "import pandas as pd\n",
    "\n",
    "#preprocessing and transformation\n",
    "from sklearn.preprocessing import MaxAbsScaler\n",
    "\n",
    "#Machine learning\n",
    "from sklearn.feature_extraction.text import CountVectorizer, TfidfTransformer\n",
    "from sklearn.pipeline import Pipeline\n",
    "from sklearn.model_selection import GridSearchCV\n",
    "from sklearn.linear_model import LogisticRegression\n",
    "\n",
    "#Metrics\n",
    "from sklearn.metrics import classification_report\n",
    "\n",
    "seed = 42"
   ]
  },
  {
   "cell_type": "code",
   "execution_count": 4,
   "metadata": {},
   "outputs": [
    {
     "name": "stdout",
     "output_type": "stream",
     "text": [
      "Index(['pid', 'req-text', 'resp-text', '1funct-request', '2pronoun-request',\n",
      "       '3ppron-request', '4i-request', '5we-request', '6you-request',\n",
      "       '7shehe-request',\n",
      "       ...\n",
      "       'sentence_length_min', 'sentence_length_standard_deviation',\n",
      "       'short_sentence_ratio', 'std_noun_phrase', 'verb_diversity',\n",
      "       'verbs_max', 'verbs_min', 'verbs_standard_deviation',\n",
      "       'long_sentence_ratio', 'tempo_resposta'],\n",
      "      dtype='object', length=310)\n",
      "(4832, 310)\n",
      "0    1628\n",
      "1    1623\n",
      "2    1581\n",
      "Name: Clareza, dtype: int64\n",
      "2    720\n",
      "1    678\n",
      "0    673\n",
      "Name: Clareza, dtype: int64\n"
     ]
    }
   ],
   "source": [
    "#Variables\n",
    "base_path = 'C:/Users/arthu/Desktop/22032020 - Experimentos/05. Organizado/03. Datasets/Clareza-Balanced-Multiclass-COH-METRIX'\n",
    "save_path = 'output'\n",
    "\n",
    "x_train_file = 'X_train.csv'\n",
    "y_train_file = 'y_train.csv'\n",
    "x_test_file = 'X_test.csv'\n",
    "y_test_file = 'y_test.csv'\n",
    "\n",
    "data='resp-text'\n",
    "label='Clareza'\n",
    "\n",
    "#Load data\n",
    "X_train = pd.read_csv(os.path.join(base_path, x_train_file), sep=';', encoding='utf-8')\n",
    "y_train = pd.read_csv(os.path.join(base_path, y_train_file), sep=';', encoding='utf-8')\n",
    "X_test = pd.read_csv(os.path.join(base_path, x_test_file), sep=';', encoding='utf-8')\n",
    "y_test = pd.read_csv(os.path.join(base_path, y_test_file), sep=';', encoding='utf-8')\n",
    "\n",
    "#Checking on data\n",
    "print(X_train.columns)\n",
    "print(X_train.shape)\n",
    "print(y_train[label].value_counts())\n",
    "print(y_test[label].value_counts())"
   ]
  },
  {
   "cell_type": "code",
   "execution_count": 5,
   "metadata": {},
   "outputs": [],
   "source": [
    "# Define pipeline and GridSearch CV\n",
    "\n",
    "params = {\n",
    "    'vect_analyzer': 'word',\n",
    "    'vect_max_features': None,\n",
    "    'vect_min_df': 1,\n",
    "    'vect_max_df': 0.75,\n",
    "    'vect_ngram_range': (1,2),\n",
    "    'tfidf_use_idf': True,\n",
    "    'tf_idf_norm': 'l2',\n",
    "    'clf_solver':'lbfgs',\n",
    "    'clf_max_iter': 10000,\n",
    "    #'clf_C': 100,\n",
    "    'gs_cv': 10,\n",
    "    'gs_scoring': 'f1_macro'   \n",
    "}\n",
    "\n",
    "pipelineWord = Pipeline([\n",
    "    ('vect',   CountVectorizer(analyzer=params.get('vect_analyzer'),\n",
    "                               max_features=params.get('vect_max_features'),\n",
    "                               min_df=params.get('vect_min_df'),\n",
    "                               max_df=params.get('vect_max_df'),\n",
    "                               ngram_range=params.get('vect_ngram_range'))),\n",
    "    \n",
    "    ('tfidf', TfidfTransformer(use_idf=params.get('tfidf_use_idf'),\n",
    "                               norm=params.get('tf_idf_norm'))),\n",
    "    \n",
    "    ('scaler', MaxAbsScaler()),\n",
    "    \n",
    "    ('clf', LogisticRegression(random_state=seed,\n",
    "                               n_jobs=6,\n",
    "                               C=params.get('clf_C'),\n",
    "                               solver=params.get('clf_solver'),\n",
    "                               max_iter=params.get('clf_max_iter')))\n",
    "])\n",
    "\n",
    "gs_parameters = {\n",
    "    #'vect__min_df': (1, 0.1, 0.25),\n",
    "    #'vect__max_df': (1.0, 0.75),\n",
    "    'clf__C': (0.1, 1, 10, 100)\n",
    "}\n",
    "\n",
    "# Define grid search\n",
    "grid_search_word = GridSearchCV(pipelineWord,\n",
    "                               gs_parameters,\n",
    "                               cv=params.get('gs_cv'),\n",
    "                               scoring=params.get('gs_scoring'),\n",
    "                               n_jobs=6,\n",
    "                               verbose=10\n",
    "                               )"
   ]
  },
  {
   "cell_type": "code",
   "execution_count": 7,
   "metadata": {},
   "outputs": [],
   "source": [
    "X = X_train[data]\n",
    "Y = y_train[label]\n",
    "x = X_test[data]\n",
    "y = y_test[label]"
   ]
  },
  {
   "cell_type": "code",
   "execution_count": 8,
   "metadata": {},
   "outputs": [
    {
     "name": "stdout",
     "output_type": "stream",
     "text": [
      "Executando Gridsearch para Respostas - Multiclass WORD - Classe Clareza - Coh Metrix\n",
      "Fitting 10 folds for each of 4 candidates, totalling 40 fits\n"
     ]
    },
    {
     "name": "stderr",
     "output_type": "stream",
     "text": [
      "[Parallel(n_jobs=6)]: Using backend LokyBackend with 6 concurrent workers.\n",
      "[Parallel(n_jobs=6)]: Done   1 tasks      | elapsed:   32.3s\n",
      "[Parallel(n_jobs=6)]: Done   6 tasks      | elapsed:   33.3s\n",
      "[Parallel(n_jobs=6)]: Done  13 tasks      | elapsed:  2.1min\n",
      "[Parallel(n_jobs=6)]: Done  20 tasks      | elapsed:  3.2min\n",
      "[Parallel(n_jobs=6)]: Done  29 tasks      | elapsed:  7.6min\n",
      "[Parallel(n_jobs=6)]: Done  34 out of  40 | elapsed: 14.1min remaining:  2.5min\n",
      "[Parallel(n_jobs=6)]: Done  40 out of  40 | elapsed: 18.3min finished\n"
     ]
    },
    {
     "name": "stdout",
     "output_type": "stream",
     "text": [
      "done in 1112.040s\n",
      "Best score: 0.410\n",
      "Best parameters set:\n",
      "\tclf__C: 0.1\n"
     ]
    }
   ],
   "source": [
    "print(\"Executando Gridsearch para Respostas - Multiclass WORD - Classe Clareza - Coh Metrix\")\n",
    "\n",
    "now = str(datetime.now()).split('.')[0].replace('-', '_').replace(' ', '_').replace(':', '_')\n",
    "\n",
    "t0 = time()\n",
    "grid_search_word.fit(X, Y)\n",
    "print(\"done in %0.3fs\" % (time() - t0))\n",
    "print(\"Best score: %0.3f\" % grid_search_word.best_score_)\n",
    "print(\"Best parameters set:\")\n",
    "best_parameters = grid_search_word.best_estimator_.get_params()\n",
    "for param_name in sorted(gs_parameters.keys()):\n",
    "    print(\"\\t%s: %r\" % (param_name, best_parameters[param_name]))"
   ]
  },
  {
   "cell_type": "code",
   "execution_count": 9,
   "metadata": {},
   "outputs": [],
   "source": [
    "# Saving Model\n",
    "f_save = now + '_Clareza_Resposta_Multiclass_Balanced_word_coh_metrix.sav'\n",
    "pickle.dump(grid_search_word, open(os.path.join(save_path, f_save),'wb'))\n",
    "\n",
    "# Saving Parameters\n",
    "with open(os.path.join(save_path, 'params.txt'),'a') as f:\n",
    "    f.write('\\n\\n' + ('#'*60))\n",
    "    f.write('\\n'+f_save + '\\n\\n')\n",
    "    f.write('Parameters:\\n')\n",
    "    f.write(dumps(params) + '\\n')\n",
    "    f.write('\\nGridSearch Best Parameters:\\n')\n",
    "    for param_name in sorted(gs_parameters.keys()):        \n",
    "        f.write(\"%s: %r\" % (param_name, best_parameters[param_name]) + '\\n')    "
   ]
  },
  {
   "cell_type": "markdown",
   "metadata": {},
   "source": [
    "# Validation"
   ]
  },
  {
   "cell_type": "code",
   "execution_count": 10,
   "metadata": {},
   "outputs": [],
   "source": [
    "# Predictions\n",
    "y_pred_train = grid_search_word.predict(X)\n",
    "y_pred_test = grid_search_word.predict(x)"
   ]
  },
  {
   "cell_type": "code",
   "execution_count": 11,
   "metadata": {},
   "outputs": [
    {
     "name": "stdout",
     "output_type": "stream",
     "text": [
      "##################################################\n",
      "Report for TRAIN\n",
      "##################################################\n",
      "              precision    recall  f1-score   support\n",
      "\n",
      "           0       0.91      0.96      0.93      1628\n",
      "           1       0.97      0.92      0.94      1623\n",
      "           2       0.96      0.94      0.95      1581\n",
      "\n",
      "    accuracy                           0.94      4832\n",
      "   macro avg       0.94      0.94      0.94      4832\n",
      "weighted avg       0.94      0.94      0.94      4832\n",
      "\n",
      "##################################################\n",
      "Report for TEST\n",
      "##################################################\n",
      "              precision    recall  f1-score   support\n",
      "\n",
      "           0       0.42      0.45      0.43       673\n",
      "           1       0.37      0.38      0.38       678\n",
      "           2       0.42      0.38      0.40       720\n",
      "\n",
      "    accuracy                           0.40      2071\n",
      "   macro avg       0.40      0.40      0.40      2071\n",
      "weighted avg       0.40      0.40      0.40      2071\n",
      "\n"
     ]
    }
   ],
   "source": [
    "print('#'*50)\n",
    "print('Report for TRAIN')\n",
    "print('#'*50)\n",
    "print(classification_report(Y, y_pred_train))\n",
    "\n",
    "print('#'*50)\n",
    "print('Report for TEST')\n",
    "print('#'*50)\n",
    "print(classification_report(y, y_pred_test))"
   ]
  },
  {
   "cell_type": "code",
   "execution_count": 9,
   "metadata": {},
   "outputs": [],
   "source": [
    "with open(os.path.join(save_path, 'params.txt'),'a') as f:\n",
    "    f.write('\\n\\n' + ('#'*60))\n",
    "    f.write('\\nReport for TRAIN')\n",
    "    f.write('\\n' + ('#'*60))\n",
    "    f.write('\\n' + classification_report(Y, y_pred_train))\n",
    "    \n",
    "    f.write('\\n\\n' + ('#'*60))\n",
    "    f.write('\\nReport for TEST')\n",
    "    f.write('\\n' + ('#'*60))\n",
    "    f.write('\\n' + classification_report(y, y_pred_test))"
   ]
  },
  {
   "cell_type": "code",
   "execution_count": null,
   "metadata": {},
   "outputs": [],
   "source": []
  }
 ],
 "metadata": {
  "kernelspec": {
   "display_name": "Python 3",
   "language": "python",
   "name": "python3"
  },
  "language_info": {
   "codemirror_mode": {
    "name": "ipython",
    "version": 3
   },
   "file_extension": ".py",
   "mimetype": "text/x-python",
   "name": "python",
   "nbconvert_exporter": "python",
   "pygments_lexer": "ipython3",
   "version": "3.7.4"
  }
 },
 "nbformat": 4,
 "nbformat_minor": 4
}
