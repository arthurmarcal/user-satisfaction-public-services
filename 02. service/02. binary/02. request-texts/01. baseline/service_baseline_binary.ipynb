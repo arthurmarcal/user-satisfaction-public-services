{
 "cells": [
  {
   "cell_type": "code",
   "execution_count": 8,
   "metadata": {},
   "outputs": [],
   "source": [
    "#Auxiliares\n",
    "import os\n",
    "import pickle\n",
    "from time import time\n",
    "from datetime import datetime\n",
    "\n",
    "#Dados\n",
    "import pandas as pd\n",
    "\n",
    "\n",
    "#Machine learning\n",
    "from sklearn.pipeline import Pipeline\n",
    "from sklearn.model_selection import GridSearchCV\n",
    "from sklearn.linear_model import LogisticRegression\n",
    "\n",
    "#Metrics\n",
    "from sklearn.metrics import classification_report\n",
    "\n",
    "seed = 42"
   ]
  },
  {
   "cell_type": "code",
   "execution_count": 9,
   "metadata": {},
   "outputs": [
    {
     "name": "stdout",
     "output_type": "stream",
     "text": [
      "Index(['pid', 'req-text', 'resp-text', '1funct-request', '2pronoun-request',\n",
      "       '3ppron-request', '4i-request', '5we-request', '6you-request',\n",
      "       '7shehe-request',\n",
      "       ...\n",
      "       '58home-response', '59money-response', '60relig-response',\n",
      "       '61death-response', '62assent-response', '63nonfl-response',\n",
      "       '64filler-response', 'Clareza', 'Atendimento', 'tempo_resposta'],\n",
      "      dtype='object', length=134)\n",
      "(31586, 134)\n",
      "2    21682\n",
      "0     9904\n",
      "Name: Atendimento, dtype: int64\n",
      "2    9338\n",
      "0    4200\n",
      "Name: Atendimento, dtype: int64\n"
     ]
    }
   ],
   "source": [
    "#Variables\n",
    "base_path = 'C:/Users/arthu/Desktop/22032020 - Experimentos/05. Organizado/03. Datasets/Atendimento-Unbalanced-Binary'\n",
    "save_path = 'output'\n",
    "\n",
    "x_train_file = 'X_train.csv'\n",
    "y_train_file = 'y_train.csv'\n",
    "x_test_file = 'X_test.csv'\n",
    "y_test_file = 'y_test.csv'\n",
    "\n",
    "#Load data\n",
    "X_train = pd.read_csv(os.path.join(base_path, x_train_file), sep=';', encoding='ansi')\n",
    "y_train = pd.read_csv(os.path.join(base_path, y_train_file), sep=';', encoding='ansi')\n",
    "X_test = pd.read_csv(os.path.join(base_path, x_test_file), sep=';', encoding='ansi')\n",
    "y_test = pd.read_csv(os.path.join(base_path, y_test_file), sep=';', encoding='ansi')\n",
    "\n",
    "#Checking on data\n",
    "print(X_train.columns)\n",
    "print(X_train.shape)\n",
    "print(y_train.Atendimento.value_counts())\n",
    "print(y_test.Atendimento.value_counts())"
   ]
  },
  {
   "cell_type": "code",
   "execution_count": 10,
   "metadata": {},
   "outputs": [],
   "source": [
    "# Define pipeline and GridSearch CV\n",
    "pipelineClf = Pipeline([                \n",
    "    ('clf', LogisticRegression(random_state=seed, n_jobs=6, class_weight='balanced'))\n",
    "])\n",
    "\n",
    "parameters = {    \n",
    "    'clf__C': (0.0001, 0.001, 0.01, 0.1, 1, 10),\n",
    "}\n",
    "\n",
    "# Define grid search\n",
    "grid_search_tempo = GridSearchCV(pipelineClf,\n",
    "                               parameters,\n",
    "                               cv=10,\n",
    "                               scoring='f1_macro',\n",
    "                               n_jobs=6,\n",
    "                               verbose=10\n",
    "                               )"
   ]
  },
  {
   "cell_type": "code",
   "execution_count": 11,
   "metadata": {},
   "outputs": [
    {
     "name": "stdout",
     "output_type": "stream",
     "text": [
      "Executando Gridsearch para baseline tempo - Classe Atendimento\n",
      "2020_05_19_23_17_07\n",
      "Fitting 10 folds for each of 6 candidates, totalling 60 fits\n"
     ]
    },
    {
     "name": "stderr",
     "output_type": "stream",
     "text": [
      "[Parallel(n_jobs=6)]: Using backend LokyBackend with 6 concurrent workers.\n",
      "[Parallel(n_jobs=6)]: Done   1 tasks      | elapsed:    1.4s\n",
      "[Parallel(n_jobs=6)]: Done   6 tasks      | elapsed:    1.6s\n",
      "[Parallel(n_jobs=6)]: Done  13 tasks      | elapsed:    1.9s\n",
      "[Parallel(n_jobs=6)]: Done  20 tasks      | elapsed:    2.3s\n",
      "[Parallel(n_jobs=6)]: Done  29 tasks      | elapsed:    2.7s\n",
      "[Parallel(n_jobs=6)]: Done  38 tasks      | elapsed:    3.0s\n",
      "[Parallel(n_jobs=6)]: Done  49 tasks      | elapsed:    3.6s\n",
      "[Parallel(n_jobs=6)]: Done  56 out of  60 | elapsed:    3.8s remaining:    0.2s\n"
     ]
    },
    {
     "name": "stdout",
     "output_type": "stream",
     "text": [
      "done in 4.323s\n",
      "Best score: 0.533\n",
      "Best parameters set:\n",
      "\tclf__C: 0.0001\n"
     ]
    },
    {
     "name": "stderr",
     "output_type": "stream",
     "text": [
      "[Parallel(n_jobs=6)]: Done  60 out of  60 | elapsed:    4.1s finished\n"
     ]
    }
   ],
   "source": [
    "print(\"Executando Gridsearch para baseline tempo - Classe Atendimento\")\n",
    "\n",
    "now = str(datetime.now()).split('.')[0].replace('-', '_').replace(' ', '_').replace(':', '_')\n",
    "print(now)\n",
    "\n",
    "t0 = time()\n",
    "grid_search_tempo.fit(X_train[['tempo_resposta']], y_train.Atendimento)\n",
    "print(\"done in %0.3fs\" % (time() - t0))\n",
    "print(\"Best score: %0.3f\" % grid_search_tempo.best_score_)\n",
    "print(\"Best parameters set:\")\n",
    "best_parameters = grid_search_tempo.best_estimator_.get_params()\n",
    "for param_name in sorted(parameters.keys()):\n",
    "    print(\"\\t%s: %r\" % (param_name, best_parameters[param_name]))"
   ]
  },
  {
   "cell_type": "code",
   "execution_count": 12,
   "metadata": {},
   "outputs": [],
   "source": [
    "# Saving Model\n",
    "f_save = now + '_Atendimento_Baseline_Tempo_Binary_Unbalanced.sav'\n",
    "pickle.dump(grid_search_tempo, open(os.path.join(save_path, f_save),'wb'))\n",
    "\n",
    "# Saving Parameters\n",
    "with open(os.path.join(save_path, 'params.txt'),'a') as f:\n",
    "    f.write(f_save + '\\n\\n')\n",
    "    for param_name in sorted(parameters.keys()):        \n",
    "        f.write(\"%s: %r\" % (param_name, best_parameters[param_name]))"
   ]
  },
  {
   "cell_type": "markdown",
   "metadata": {},
   "source": [
    "# Validation"
   ]
  },
  {
   "cell_type": "code",
   "execution_count": 13,
   "metadata": {},
   "outputs": [],
   "source": [
    "# Predictions\n",
    "y_pred_train = grid_search_tempo.predict(X_train[['tempo_resposta']])\n",
    "y_pred_test = grid_search_tempo.predict(X_test[['tempo_resposta']])"
   ]
  },
  {
   "cell_type": "code",
   "execution_count": 14,
   "metadata": {},
   "outputs": [
    {
     "name": "stdout",
     "output_type": "stream",
     "text": [
      "##################################################\n",
      "Report for TRAIN\n",
      "##################################################\n",
      "              precision    recall  f1-score   support\n",
      "\n",
      "           0       0.36      0.46      0.40      9904\n",
      "           2       0.72      0.62      0.66     21682\n",
      "\n",
      "    accuracy                           0.57     31586\n",
      "   macro avg       0.54      0.54      0.53     31586\n",
      "weighted avg       0.60      0.57      0.58     31586\n",
      "\n",
      "##################################################\n",
      "Report for TEST\n",
      "##################################################\n",
      "              precision    recall  f1-score   support\n",
      "\n",
      "           0       0.35      0.45      0.40      4200\n",
      "           2       0.72      0.62      0.67      9338\n",
      "\n",
      "    accuracy                           0.57     13538\n",
      "   macro avg       0.53      0.54      0.53     13538\n",
      "weighted avg       0.60      0.57      0.58     13538\n",
      "\n"
     ]
    }
   ],
   "source": [
    "print('#'*50)\n",
    "print('Report for TRAIN')\n",
    "print('#'*50)\n",
    "print(classification_report(y_train.Atendimento, y_pred_train))\n",
    "\n",
    "print('#'*50)\n",
    "print('Report for TEST')\n",
    "print('#'*50)\n",
    "print(classification_report(y_test.Atendimento, y_pred_test))"
   ]
  },
  {
   "cell_type": "code",
   "execution_count": 11,
   "metadata": {},
   "outputs": [],
   "source": [
    "with open(os.path.join(save_path, 'params.txt'),'a') as f:\n",
    "    f.write('\\n\\n' + ('#'*60))\n",
    "    f.write('\\nReport for TRAIN')\n",
    "    f.write('\\n' + ('#'*60))\n",
    "    f.write('\\n' + classification_report(y_train.Atendimento, y_pred_train))\n",
    "    \n",
    "    f.write('\\n\\n' + ('#'*60))\n",
    "    f.write('\\nReport for TEST')\n",
    "    f.write('\\n' + ('#'*60))\n",
    "    f.write('\\n' + classification_report(y_test.Atendimento, y_pred_test))"
   ]
  },
  {
   "cell_type": "code",
   "execution_count": null,
   "metadata": {},
   "outputs": [],
   "source": []
  }
 ],
 "metadata": {
  "kernelspec": {
   "display_name": "Python 3",
   "language": "python",
   "name": "python3"
  },
  "language_info": {
   "codemirror_mode": {
    "name": "ipython",
    "version": 3
   },
   "file_extension": ".py",
   "mimetype": "text/x-python",
   "name": "python",
   "nbconvert_exporter": "python",
   "pygments_lexer": "ipython3",
   "version": "3.7.4"
  }
 },
 "nbformat": 4,
 "nbformat_minor": 4
}
