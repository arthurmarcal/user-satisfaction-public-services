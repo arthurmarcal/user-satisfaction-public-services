{
 "cells": [
  {
   "cell_type": "code",
   "execution_count": 1,
   "metadata": {
    "colab": {},
    "colab_type": "code",
    "id": "S3U5zlZBBoYB"
   },
   "outputs": [],
   "source": [
    "#Auxiliares\n",
    "import os\n",
    "import pickle\n",
    "from time import time\n",
    "from datetime import datetime\n",
    "from json import dumps\n",
    "\n",
    "#Dados\n",
    "import pandas as pd\n",
    "\n",
    "\n",
    "#Machine learning\n",
    "from sklearn.pipeline import Pipeline\n",
    "from sklearn.model_selection import GridSearchCV\n",
    "from sklearn.linear_model import LogisticRegression\n",
    "from sklearn.preprocessing import MaxAbsScaler\n",
    "#Metrics\n",
    "from sklearn.metrics import classification_report\n",
    "\n",
    "seed = 42"
   ]
  },
  {
   "cell_type": "code",
   "execution_count": 2,
   "metadata": {
    "colab": {
     "base_uri": "https://localhost:8080/",
     "height": 122
    },
    "colab_type": "code",
    "executionInfo": {
     "elapsed": 20088,
     "status": "ok",
     "timestamp": 1587330859453,
     "user": {
      "displayName": "Arthur Flores",
      "photoUrl": "https://lh3.googleusercontent.com/a-/AOh14GjbI0d_QrpAQKtF515a4dEqUdR-D2ZgJBzY82OGaw=s64",
      "userId": "08476643306062051566"
     },
     "user_tz": 180
    },
    "id": "O8ufFHLOFeGY",
    "outputId": "94354397-caa8-43a0-dc7e-698072b584c0"
   },
   "outputs": [],
   "source": [
    "# Mount Driver\n",
    "#drive.mount('/content/gdrive')"
   ]
  },
  {
   "cell_type": "code",
   "execution_count": 3,
   "metadata": {
    "colab": {
     "base_uri": "https://localhost:8080/",
     "height": 289
    },
    "colab_type": "code",
    "executionInfo": {
     "elapsed": 5503,
     "status": "ok",
     "timestamp": 1587330877994,
     "user": {
      "displayName": "Arthur Flores",
      "photoUrl": "https://lh3.googleusercontent.com/a-/AOh14GjbI0d_QrpAQKtF515a4dEqUdR-D2ZgJBzY82OGaw=s64",
      "userId": "08476643306062051566"
     },
     "user_tz": 180
    },
    "id": "m305KLiABoYL",
    "outputId": "b50c31e5-75d9-4c30-abb4-98742a99f6b8"
   },
   "outputs": [
    {
     "name": "stdout",
     "output_type": "stream",
     "text": [
      "Index(['pid', 'req-text', 'resp-text', '1funct-request', '2pronoun-request',\n",
      "       '3ppron-request', '4i-request', '5we-request', '6you-request',\n",
      "       '7shehe-request',\n",
      "       ...\n",
      "       '58home-response', '59money-response', '60relig-response',\n",
      "       '61death-response', '62assent-response', '63nonfl-response',\n",
      "       '64filler-response', 'Clareza', 'Atendimento', 'tempo_resposta'],\n",
      "      dtype='object', length=134)\n",
      "(31586, 134)\n",
      "2    21682\n",
      "0     9904\n",
      "Name: Atendimento, dtype: int64\n",
      "2    9338\n",
      "0    4200\n",
      "Name: Atendimento, dtype: int64\n"
     ]
    }
   ],
   "source": [
    "#Variables\n",
    "base_path = 'C:/Users/arthu/Desktop/22032020 - Experimentos/05. Organizado/03. Datasets/Atendimento-Unbalanced-Binary'\n",
    "save_path = 'output'\n",
    "\n",
    "label='Atendimento'\n",
    "\n",
    "x_train_file = 'X_train.csv'\n",
    "y_train_file = 'y_train.csv'\n",
    "x_test_file = 'X_test.csv'\n",
    "y_test_file = 'y_test.csv'\n",
    "\n",
    "#Load data\n",
    "X_train = pd.read_csv(os.path.join(base_path, x_train_file), sep=';', encoding='utf-8')\n",
    "y_train = pd.read_csv(os.path.join(base_path, y_train_file), sep=';', encoding='utf-8')\n",
    "X_test = pd.read_csv(os.path.join(base_path, x_test_file), sep=';', encoding='utf-8')\n",
    "y_test = pd.read_csv(os.path.join(base_path, y_test_file), sep=';', encoding='utf-8')\n",
    "\n",
    "#Checking on data\n",
    "print(X_train.columns)\n",
    "print(X_train.shape)\n",
    "print(y_train[label].value_counts())\n",
    "print(y_test[label].value_counts())"
   ]
  },
  {
   "cell_type": "code",
   "execution_count": 10,
   "metadata": {
    "colab": {},
    "colab_type": "code",
    "id": "n_XJzdxPBoYU"
   },
   "outputs": [],
   "source": [
    "# Define pipeline and GridSearch CV\n",
    "params = {    \n",
    "    'clf_solver':'lbfgs',\n",
    "    'clf_max_iter': 10000,\n",
    "    #'clf_C': 100,\n",
    "    'gs_cv': 10,\n",
    "    'gs_scoring': 'f1_macro'   \n",
    "}\n",
    "\n",
    "pipelineClf = Pipeline([\n",
    "    ('scaler', MaxAbsScaler()),\n",
    "    ('clf', LogisticRegression(random_state=seed,\n",
    "                               n_jobs=6,\n",
    "                               class_weight='balanced',\n",
    "                               # C=params.get('clf_C'),\n",
    "                               solver=params.get('clf_solver'),\n",
    "                               max_iter=params.get('clf_max_iter')))\n",
    "])\n",
    "\n",
    "gs_parameters = {\n",
    "    'clf__C': (0.0001, 0.001, 0.01, 0.1, 1, 10, 100)\n",
    "}\n",
    "\n",
    "# Define grid search\n",
    "grid_search_liwc = GridSearchCV(pipelineClf,\n",
    "                               gs_parameters,\n",
    "                               cv=params.get('gs_cv'),\n",
    "                               scoring=params.get('gs_scoring'),\n",
    "                               n_jobs=6,\n",
    "                               verbose=10\n",
    "                               )"
   ]
  },
  {
   "cell_type": "code",
   "execution_count": 11,
   "metadata": {
    "colab": {},
    "colab_type": "code",
    "id": "RbA0K-EbJ5XO"
   },
   "outputs": [],
   "source": [
    "X = X_train.iloc[:, 3: 3+64]\n",
    "Y = y_train[label]\n",
    "x = X_test.iloc[:, 3: 3+64]\n",
    "y = y_test[label]"
   ]
  },
  {
   "cell_type": "code",
   "execution_count": 12,
   "metadata": {
    "colab": {
     "base_uri": "https://localhost:8080/",
     "height": 289
    },
    "colab_type": "code",
    "executionInfo": {
     "elapsed": 31186,
     "status": "ok",
     "timestamp": 1587330946324,
     "user": {
      "displayName": "Arthur Flores",
      "photoUrl": "https://lh3.googleusercontent.com/a-/AOh14GjbI0d_QrpAQKtF515a4dEqUdR-D2ZgJBzY82OGaw=s64",
      "userId": "08476643306062051566"
     },
     "user_tz": 180
    },
    "id": "WU6Li5cUBoYb",
    "outputId": "f7dac407-85ef-4130-bc48-da7453b8d0ae"
   },
   "outputs": [
    {
     "name": "stdout",
     "output_type": "stream",
     "text": [
      "Executando Gridsearch para textos Solicitação Binary Unbalaneced - LIWC - Classe Atendimento\n",
      "2020_05_19_23_36_49\n",
      "Fitting 10 folds for each of 7 candidates, totalling 70 fits\n"
     ]
    },
    {
     "name": "stderr",
     "output_type": "stream",
     "text": [
      "[Parallel(n_jobs=6)]: Using backend LokyBackend with 6 concurrent workers.\n",
      "[Parallel(n_jobs=6)]: Done   1 tasks      | elapsed:    0.2s\n",
      "[Parallel(n_jobs=6)]: Done   6 tasks      | elapsed:    0.3s\n",
      "[Parallel(n_jobs=6)]: Done  13 tasks      | elapsed:    0.6s\n",
      "[Parallel(n_jobs=6)]: Done  20 tasks      | elapsed:    0.9s\n",
      "[Parallel(n_jobs=6)]: Done  29 tasks      | elapsed:    1.4s\n",
      "[Parallel(n_jobs=6)]: Done  38 tasks      | elapsed:    2.3s\n",
      "[Parallel(n_jobs=6)]: Done  49 tasks      | elapsed:    5.1s\n",
      "[Parallel(n_jobs=6)]: Done  67 out of  70 | elapsed:   13.8s remaining:    0.5s\n",
      "[Parallel(n_jobs=6)]: Done  70 out of  70 | elapsed:   14.6s finished\n"
     ]
    },
    {
     "name": "stdout",
     "output_type": "stream",
     "text": [
      "done in 28.894s\n",
      "Best score: 0.551\n",
      "Best parameters set:\n",
      "\tclf__C: 100\n"
     ]
    }
   ],
   "source": [
    "print(\"Executando Gridsearch para textos Solicitação Binary Unbalaneced - LIWC - Classe Atendimento\")\n",
    "\n",
    "now = str(datetime.now()).split('.')[0].replace('-', '_').replace(' ', '_').replace(':', '_')\n",
    "print(now)\n",
    "\n",
    "t0 = time()\n",
    "grid_search_liwc.fit(X,Y)\n",
    "print(\"done in %0.3fs\" % (time() - t0))\n",
    "print(\"Best score: %0.3f\" % grid_search_liwc.best_score_)\n",
    "print(\"Best parameters set:\")\n",
    "best_parameters = grid_search_liwc.best_estimator_.get_params()\n",
    "for param_name in sorted(gs_parameters.keys()):\n",
    "    print(\"\\t%s: %r\" % (param_name, best_parameters[param_name]))"
   ]
  },
  {
   "cell_type": "code",
   "execution_count": 13,
   "metadata": {
    "colab": {},
    "colab_type": "code",
    "id": "6e1z5QJuBoYj"
   },
   "outputs": [],
   "source": [
    "# Saving Model\n",
    "f_save = now + '_Atendimento_Solicitacao_Binary_Unbalanced_LIWC.sav'\n",
    "pickle.dump(grid_search_liwc, open(os.path.join(save_path, f_save),'wb'))\n",
    "\n",
    "# Saving Parameters\n",
    "with open(os.path.join(save_path, 'params.txt'),'a') as f:\n",
    "    f.write('\\n\\n' + ('#'*60))\n",
    "    f.write('\\n'+f_save + '\\n\\n')\n",
    "    f.write('Parameters:\\n')\n",
    "    f.write(dumps(params) + '\\n')\n",
    "    f.write('\\nGridSearch Best Parameters:\\n')\n",
    "    for param_name in sorted(gs_parameters.keys()):        \n",
    "        f.write(\"%s: %r\" % (param_name, best_parameters[param_name]) + '\\n')    "
   ]
  },
  {
   "cell_type": "markdown",
   "metadata": {
    "colab_type": "text",
    "id": "ufsBkxPJBoYr"
   },
   "source": [
    "# Validation"
   ]
  },
  {
   "cell_type": "code",
   "execution_count": 14,
   "metadata": {
    "colab": {},
    "colab_type": "code",
    "id": "j8kGgjAVBoYs"
   },
   "outputs": [],
   "source": [
    "# Predictions\n",
    "y_pred_train = grid_search_liwc.predict(X)\n",
    "y_pred_test = grid_search_liwc.predict(x)"
   ]
  },
  {
   "cell_type": "code",
   "execution_count": 15,
   "metadata": {
    "colab": {
     "base_uri": "https://localhost:8080/",
     "height": 425
    },
    "colab_type": "code",
    "executionInfo": {
     "elapsed": 1035,
     "status": "ok",
     "timestamp": 1587330947409,
     "user": {
      "displayName": "Arthur Flores",
      "photoUrl": "https://lh3.googleusercontent.com/a-/AOh14GjbI0d_QrpAQKtF515a4dEqUdR-D2ZgJBzY82OGaw=s64",
      "userId": "08476643306062051566"
     },
     "user_tz": 180
    },
    "id": "xJpdM5TABoY0",
    "outputId": "4ceef74f-dd03-4806-f845-2cb58549096b"
   },
   "outputs": [
    {
     "name": "stdout",
     "output_type": "stream",
     "text": [
      "##################################################\n",
      "Report for TRAIN\n",
      "##################################################\n",
      "              precision    recall  f1-score   support\n",
      "\n",
      "           0       0.38      0.63      0.48      9904\n",
      "           2       0.76      0.54      0.63     21682\n",
      "\n",
      "    accuracy                           0.57     31586\n",
      "   macro avg       0.57      0.58      0.56     31586\n",
      "weighted avg       0.64      0.57      0.58     31586\n",
      "\n",
      "##################################################\n",
      "Report for TEST\n",
      "##################################################\n",
      "              precision    recall  f1-score   support\n",
      "\n",
      "           0       0.37      0.62      0.47      4200\n",
      "           2       0.76      0.53      0.63      9338\n",
      "\n",
      "    accuracy                           0.56     13538\n",
      "   macro avg       0.57      0.58      0.55     13538\n",
      "weighted avg       0.64      0.56      0.58     13538\n",
      "\n"
     ]
    }
   ],
   "source": [
    "print('#'*50)\n",
    "print('Report for TRAIN')\n",
    "print('#'*50)\n",
    "print(classification_report(Y, y_pred_train))\n",
    "\n",
    "print('#'*50)\n",
    "print('Report for TEST')\n",
    "print('#'*50)\n",
    "print(classification_report(y, y_pred_test))"
   ]
  },
  {
   "cell_type": "code",
   "execution_count": 24,
   "metadata": {
    "colab": {},
    "colab_type": "code",
    "id": "3aLfheb4BoY9"
   },
   "outputs": [],
   "source": [
    "with open(os.path.join(save_path, 'params.txt'),'a') as f:\n",
    "    f.write('\\n\\n' + ('#'*60))\n",
    "    f.write('\\nReport for TRAIN')\n",
    "    f.write('\\n' + ('#'*60))\n",
    "    f.write('\\n' + classification_report(Y, y_pred_train))\n",
    "    \n",
    "    f.write('\\n\\n' + ('#'*60))\n",
    "    f.write('\\nReport for TEST')\n",
    "    f.write('\\n' + ('#'*60))\n",
    "    f.write('\\n' + classification_report(y, y_pred_test))"
   ]
  },
  {
   "cell_type": "code",
   "execution_count": 0,
   "metadata": {
    "colab": {},
    "colab_type": "code",
    "id": "CoCIUF-JNKr7"
   },
   "outputs": [],
   "source": []
  }
 ],
 "metadata": {
  "colab": {
   "collapsed_sections": [],
   "name": "20200419_Atendimento_solicitacao_binary_unbalanced_LIWC.ipynb",
   "provenance": [],
   "toc_visible": true
  },
  "kernelspec": {
   "display_name": "Python 3",
   "language": "python",
   "name": "python3"
  },
  "language_info": {
   "codemirror_mode": {
    "name": "ipython",
    "version": 3
   },
   "file_extension": ".py",
   "mimetype": "text/x-python",
   "name": "python",
   "nbconvert_exporter": "python",
   "pygments_lexer": "ipython3",
   "version": "3.7.4"
  }
 },
 "nbformat": 4,
 "nbformat_minor": 1
}
