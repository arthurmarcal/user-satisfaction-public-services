{
 "cells": [
  {
   "cell_type": "code",
   "execution_count": 1,
   "metadata": {},
   "outputs": [],
   "source": [
    "#Auxiliares\n",
    "import os\n",
    "import pickle\n",
    "from time import time\n",
    "from datetime import datetime\n",
    "from json import dumps\n",
    "\n",
    "#Dados\n",
    "import pandas as pd\n",
    "\n",
    "#preprocessing and transformation\n",
    "from sklearn.preprocessing import MaxAbsScaler\n",
    "\n",
    "#Machine learning\n",
    "from sklearn.feature_extraction.text import CountVectorizer, TfidfTransformer\n",
    "from sklearn.pipeline import Pipeline\n",
    "from sklearn.model_selection import GridSearchCV\n",
    "from sklearn.linear_model import LogisticRegression\n",
    "\n",
    "#Metrics\n",
    "from sklearn.metrics import classification_report\n",
    "\n",
    "seed = 42"
   ]
  },
  {
   "cell_type": "code",
   "execution_count": 5,
   "metadata": {},
   "outputs": [
    {
     "name": "stdout",
     "output_type": "stream",
     "text": [
      "Index(['pid', 'req-text', 'resp-text', '1funct-request', '2pronoun-request',\n",
      "       '3ppron-request', '4i-request', '5we-request', '6you-request',\n",
      "       '7shehe-request',\n",
      "       ...\n",
      "       '58home-response', '59money-response', '60relig-response',\n",
      "       '61death-response', '62assent-response', '63nonfl-response',\n",
      "       '64filler-response', 'Clareza', 'Atendimento', 'tempo_resposta'],\n",
      "      dtype='object', length=134)\n",
      "(31586, 134)\n",
      "2    21682\n",
      "0     9904\n",
      "Name: Atendimento, dtype: int64\n",
      "2    9338\n",
      "0    4200\n",
      "Name: Atendimento, dtype: int64\n"
     ]
    }
   ],
   "source": [
    "#Variables\n",
    "base_path = 'C:/Users/arthu/Desktop/22032020 - Experimentos/05. Organizado/03. Datasets/Atendimento-Unbalanced-Binary'\n",
    "save_path = 'output'\n",
    "\n",
    "x_train_file = 'X_train.csv'\n",
    "y_train_file = 'y_train.csv'\n",
    "x_test_file = 'X_test.csv'\n",
    "y_test_file = 'y_test.csv'\n",
    "\n",
    "label = 'Atendimento'\n",
    "data = 'req-text'\n",
    "\n",
    "#Load data\n",
    "X_train = pd.read_csv(os.path.join(base_path, x_train_file), sep=';', encoding='utf-8')\n",
    "y_train = pd.read_csv(os.path.join(base_path, y_train_file), sep=';', encoding='utf-8')\n",
    "X_test = pd.read_csv(os.path.join(base_path, x_test_file), sep=';', encoding='utf-8')\n",
    "y_test = pd.read_csv(os.path.join(base_path, y_test_file), sep=';', encoding='utf-8')\n",
    "\n",
    "#Checking on data\n",
    "print(X_train.columns)\n",
    "print(X_train.shape)\n",
    "print(y_train[label].value_counts())\n",
    "print(y_test[label].value_counts())"
   ]
  },
  {
   "cell_type": "code",
   "execution_count": 12,
   "metadata": {},
   "outputs": [],
   "source": [
    "# Define pipeline and GridSearch CV\n",
    "\n",
    "params = {\n",
    "    'vect_analyzer': 'word',\n",
    "    'vect_max_features': None,\n",
    "    'vect_min_df': 1,\n",
    "    'vect_max_df': 0.75,\n",
    "    'vect_ngram_range': (1,2),\n",
    "    'tfidf_use_idf': True,\n",
    "    'tf_idf_norm': 'l2',\n",
    "    'clf_solver':'lbfgs',\n",
    "    'clf_max_iter': 10000,\n",
    "    'gs_cv': 10,\n",
    "    'gs_scoring': 'f1_macro'\n",
    "}\n",
    "\n",
    "pipelineWord = Pipeline([\n",
    "    ('vect',   CountVectorizer(analyzer=params.get('vect_analyzer'),\n",
    "                               max_features=params.get('vect_max_features'),\n",
    "                               min_df=params.get('vect_min_df'),\n",
    "                               max_df=params.get('vect_max_df'),\n",
    "                               ngram_range=params.get('vect_ngram_range'))),\n",
    "    \n",
    "    ('tfidf', TfidfTransformer(use_idf=params.get('tfidf_use_idf'),\n",
    "                               norm=params.get('tf_idf_norm'))),\n",
    "    \n",
    "    #('scaler', MaxAbsScaler()),\n",
    "    \n",
    "    ('clf', LogisticRegression(random_state=seed,\n",
    "                               n_jobs=6,\n",
    "                               C=1,\n",
    "                               class_weight='balanced',\n",
    "                               solver=params.get('clf_solver'),\n",
    "                               max_iter=params.get('clf_max_iter')))\n",
    "])\n",
    "\n",
    "gs_parameters = {\n",
    "    #'vect__min_df': (1, 0.1, 0.25),\n",
    "    #'vect__max_df': (1.0, 0.75),\n",
    "    #'clf__C': (0.1, 1, 10, 100)\n",
    "}\n",
    "\n",
    "# Define grid search\n",
    "grid_search_word = GridSearchCV(pipelineWord,\n",
    "                               gs_parameters,\n",
    "                               cv=params.get('gs_cv'),\n",
    "                               scoring=params.get('gs_scoring'),\n",
    "                               n_jobs=6,\n",
    "                               verbose=10\n",
    "                               )"
   ]
  },
  {
   "cell_type": "code",
   "execution_count": 13,
   "metadata": {},
   "outputs": [
    {
     "name": "stdout",
     "output_type": "stream",
     "text": [
      "Executando Gridsearch para Features Word - Classe Atendimento\n",
      "Fitting 10 folds for each of 24 candidates, totalling 240 fits\n"
     ]
    },
    {
     "name": "stderr",
     "output_type": "stream",
     "text": [
      "[Parallel(n_jobs=6)]: Using backend LokyBackend with 6 concurrent workers.\n",
      "[Parallel(n_jobs=6)]: Done   1 tasks      | elapsed:   23.1s\n",
      "[Parallel(n_jobs=6)]: Done   6 tasks      | elapsed:   24.0s\n",
      "[Parallel(n_jobs=6)]: Done  13 tasks      | elapsed:   49.0s\n",
      "[Parallel(n_jobs=6)]: Done  20 tasks      | elapsed:  1.0min\n",
      "[Parallel(n_jobs=6)]: Done  29 tasks      | elapsed:  1.3min\n",
      "[Parallel(n_jobs=6)]: Done  38 tasks      | elapsed:  1.8min\n",
      "[Parallel(n_jobs=6)]: Done  49 tasks      | elapsed:  2.1min\n",
      "[Parallel(n_jobs=6)]: Done  60 tasks      | elapsed:  2.5min\n",
      "[Parallel(n_jobs=6)]: Done  73 tasks      | elapsed:  3.5min\n",
      "[Parallel(n_jobs=6)]: Done  86 tasks      | elapsed:  3.9min\n",
      "[Parallel(n_jobs=6)]: Done 101 tasks      | elapsed:  5.1min\n",
      "[Parallel(n_jobs=6)]: Done 116 tasks      | elapsed:  5.5min\n",
      "[Parallel(n_jobs=6)]: Done 133 tasks      | elapsed:  8.0min\n",
      "[Parallel(n_jobs=6)]: Done 150 tasks      | elapsed:  8.6min\n",
      "[Parallel(n_jobs=6)]: Done 169 tasks      | elapsed: 11.0min\n",
      "[Parallel(n_jobs=6)]: Done 188 tasks      | elapsed: 14.7min\n",
      "[Parallel(n_jobs=6)]: Done 209 tasks      | elapsed: 16.6min\n",
      "[Parallel(n_jobs=6)]: Done 240 out of 240 | elapsed: 21.6min finished\n"
     ]
    },
    {
     "name": "stdout",
     "output_type": "stream",
     "text": [
      "done in 1312.159s\n",
      "Best score: 0.644\n",
      "Best parameters set:\n",
      "\tclf__C: 1\n",
      "\tvect__max_df: 0.75\n",
      "\tvect__min_df: 1\n"
     ]
    }
   ],
   "source": [
    "print(\"Executando Gridsearch para Features Word - Classe Atendimento\")\n",
    "\n",
    "now = str(datetime.now()).split('.')[0].replace('-', '_').replace(' ', '_').replace(':', '_')\n",
    "\n",
    "t0 = time()\n",
    "grid_search_word.fit(X_train[data], y_train[label])\n",
    "print(\"done in %0.3fs\" % (time() - t0))\n",
    "print(\"Best score: %0.3f\" % grid_search_word.best_score_)\n",
    "print(\"Best parameters set:\")\n",
    "best_parameters = grid_search_word.best_estimator_.get_params()\n",
    "for param_name in sorted(gs_parameters.keys()):\n",
    "    print(\"\\t%s: %r\" % (param_name, best_parameters[param_name]))"
   ]
  },
  {
   "cell_type": "code",
   "execution_count": 10,
   "metadata": {},
   "outputs": [],
   "source": [
    "# Saving Model\n",
    "f_save = now + '_Atendimento_Solicitacao_Binary_Unbalanced.sav'\n",
    "pickle.dump(grid_search_word, open(os.path.join(save_path, f_save),'wb'))\n",
    "\n",
    "# Saving Parameters\n",
    "with open(os.path.join(save_path, 'params.txt'),'a') as f:\n",
    "    f.write('\\n\\n' + ('#'*60))\n",
    "    f.write('\\n'+f_save + '\\n\\n')\n",
    "    f.write('Parameters:\\n')\n",
    "    f.write(dumps(params) + '\\n')\n",
    "    f.write('\\nGridSearch Best Parameters:\\n')\n",
    "    for param_name in sorted(gs_parameters.keys()):        \n",
    "        f.write(\"%s: %r\" % (param_name, best_parameters[param_name]) + '\\n')    "
   ]
  },
  {
   "cell_type": "markdown",
   "metadata": {},
   "source": [
    "# Validation"
   ]
  },
  {
   "cell_type": "code",
   "execution_count": 14,
   "metadata": {},
   "outputs": [],
   "source": [
    "# Predictions\n",
    "y_pred_train = grid_search_word.predict(X_train[data])\n",
    "y_pred_test = grid_search_word.predict(X_test[data])"
   ]
  },
  {
   "cell_type": "code",
   "execution_count": 15,
   "metadata": {},
   "outputs": [
    {
     "name": "stdout",
     "output_type": "stream",
     "text": [
      "##################################################\n",
      "Report for TRAIN\n",
      "##################################################\n",
      "              precision    recall  f1-score   support\n",
      "\n",
      "           0       0.73      0.91      0.81      9904\n",
      "           2       0.95      0.85      0.90     21682\n",
      "\n",
      "    accuracy                           0.86     31586\n",
      "   macro avg       0.84      0.88      0.85     31586\n",
      "weighted avg       0.88      0.86      0.87     31586\n",
      "\n",
      "##################################################\n",
      "Report for TEST\n",
      "##################################################\n",
      "              precision    recall  f1-score   support\n",
      "\n",
      "           0       0.48      0.63      0.55      4200\n",
      "           2       0.81      0.69      0.75      9338\n",
      "\n",
      "    accuracy                           0.67     13538\n",
      "   macro avg       0.64      0.66      0.65     13538\n",
      "weighted avg       0.71      0.67      0.68     13538\n",
      "\n"
     ]
    }
   ],
   "source": [
    "print('#'*50)\n",
    "print('Report for TRAIN')\n",
    "print('#'*50)\n",
    "print(classification_report(y_train[label], y_pred_train))\n",
    "\n",
    "print('#'*50)\n",
    "print('Report for TEST')\n",
    "print('#'*50)\n",
    "print(classification_report(y_test[label], y_pred_test))"
   ]
  },
  {
   "cell_type": "code",
   "execution_count": 11,
   "metadata": {},
   "outputs": [],
   "source": [
    "with open(os.path.join(save_path, 'params.txt'),'a') as f:\n",
    "    f.write('\\n\\n' + ('#'*60))\n",
    "    f.write('\\nReport for TRAIN')\n",
    "    f.write('\\n' + ('#'*60))\n",
    "    f.write('\\n' + classification_report(y_train[label], y_pred_train))\n",
    "    \n",
    "    f.write('\\n\\n' + ('#'*60))\n",
    "    f.write('\\nReport for TEST')\n",
    "    f.write('\\n' + ('#'*60))\n",
    "    f.write('\\n' + classification_report(y_test[label], y_pred_test))"
   ]
  },
  {
   "cell_type": "code",
   "execution_count": null,
   "metadata": {},
   "outputs": [],
   "source": []
  }
 ],
 "metadata": {
  "kernelspec": {
   "display_name": "Python 3",
   "language": "python",
   "name": "python3"
  },
  "language_info": {
   "codemirror_mode": {
    "name": "ipython",
    "version": 3
   },
   "file_extension": ".py",
   "mimetype": "text/x-python",
   "name": "python",
   "nbconvert_exporter": "python",
   "pygments_lexer": "ipython3",
   "version": "3.7.4"
  }
 },
 "nbformat": 4,
 "nbformat_minor": 4
}
