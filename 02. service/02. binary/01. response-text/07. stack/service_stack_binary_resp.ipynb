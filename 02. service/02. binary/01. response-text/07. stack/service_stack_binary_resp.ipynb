{
 "cells": [
  {
   "cell_type": "code",
   "execution_count": 1,
   "metadata": {},
   "outputs": [
    {
     "name": "stderr",
     "output_type": "stream",
     "text": [
      "Using TensorFlow backend.\n"
     ]
    }
   ],
   "source": [
    "###################################################################################################\n",
    "#Auxiliares\n",
    "import os\n",
    "import re\n",
    "import pickle\n",
    "import random\n",
    "from time import time\n",
    "import numpy as np\n",
    "import tensorflow as tf\n",
    "os.environ['TF_DETERMINISTIC_OPS'] = '1'\n",
    "\n",
    "# Now using tensorflow 2.1.0, so no need to patch\n",
    "# from tfdeterminism import patch\n",
    "#patch()\n",
    "\n",
    "seed = 42\n",
    "os.environ['PYTHONHASHSEED']=str(seed)\n",
    "random.seed(seed)\n",
    "np.random.seed(seed)\n",
    "tf.random.set_seed(seed)\n",
    "###################################################################################################\n",
    "# utils\n",
    "from distutils.version import LooseVersion\n",
    "from tqdm import tqdm_notebook\n",
    "from datetime import datetime\n",
    "from time import time\n",
    "\n",
    "import warnings\n",
    "import pickle\n",
    "import gc\n",
    "import sys\n",
    "from json import dumps\n",
    "import itertools\n",
    "import re\n",
    "\n",
    "# Data\n",
    "import spacy\n",
    "\n",
    "# Viz\n",
    "import matplotlib.pyplot as plt\n",
    "\n",
    "# Machine Learning\n",
    "import tensorflow.keras.backend as K\n",
    "from keras.preprocessing.text import one_hot, Tokenizer\n",
    "from keras.preprocessing.sequence import pad_sequences\n",
    "from keras.layers import Input, Dropout, Bidirectional, LSTM, Flatten, Dense, Reshape\n",
    "from keras.layers.embeddings import Embedding\n",
    "from keras.models import Sequential, Model, load_model\n",
    "from keras.optimizers import Adam\n",
    "from keras.callbacks.callbacks import EarlyStopping\n",
    "from keras_self_attention import SeqSelfAttention\n",
    "from keras_multi_head import MultiHead, MultiHeadAttention\n",
    "###################################################################################################\n",
    "#Dados\n",
    "import pandas as pd\n",
    "import matplotlib as pl\n",
    "\n",
    "#preprocessing and transformation\n",
    "from sklearn.preprocessing import normalize, MaxAbsScaler, MinMaxScaler, StandardScaler\n",
    "from nltk.corpus import stopwords\n",
    "#from nltk import word_tokenize, pos_tag\n",
    "\n",
    "#Machine learning\n",
    "from sklearn.pipeline import Pipeline, make_pipeline\n",
    "from sklearn.model_selection import GridSearchCV\n",
    "from sklearn.feature_extraction.text import CountVectorizer, TfidfVectorizer, TfidfTransformer, HashingVectorizer\n",
    "from sklearn.linear_model import LogisticRegression\n",
    "from sklearn.naive_bayes import MultinomialNB\n",
    "from sklearn.model_selection import train_test_split\n",
    "from sklearn.utils import resample\n",
    "from sklearn.ensemble import StackingClassifier\n",
    "from sklearn.preprocessing import LabelEncoder\n",
    "\n",
    "#Metrics\n",
    "from sklearn.metrics import confusion_matrix\n",
    "from sklearn.metrics import classification_report, accuracy_score, roc_curve, auc, precision_recall_fscore_support, f1_score\n",
    "\n",
    "seed = 42\n",
    "\n",
    "def recall_m(y_true, y_pred):\n",
    "    true_positives = K.sum(K.round(K.clip(y_true * y_pred, 0, 1)))\n",
    "    possible_positives = K.sum(K.round(K.clip(y_true, 0, 1)))\n",
    "    recall = true_positives / (possible_positives + K.epsilon())\n",
    "    return recall\n",
    "\n",
    "def precision_m(y_true, y_pred):\n",
    "    true_positives = K.sum(K.round(K.clip(y_true * y_pred, 0, 1)))\n",
    "    predicted_positives = K.sum(K.round(K.clip(y_pred, 0, 1)))\n",
    "    precision = true_positives / (predicted_positives + K.epsilon())\n",
    "    return precision\n",
    "\n",
    "def f1_m(y_true, y_pred):\n",
    "    precision = precision_m(y_true, y_pred)\n",
    "    recall = recall_m(y_true, y_pred)\n",
    "    return 2*((precision*recall)/(precision+recall+K.epsilon()))"
   ]
  },
  {
   "cell_type": "code",
   "execution_count": 4,
   "metadata": {},
   "outputs": [
    {
     "name": "stdout",
     "output_type": "stream",
     "text": [
      "Index(['pid', 'req-text', 'resp-text', '1funct-request', '2pronoun-request',\n",
      "       '3ppron-request', '4i-request', '5we-request', '6you-request',\n",
      "       '7shehe-request',\n",
      "       ...\n",
      "       '58home-response', '59money-response', '60relig-response',\n",
      "       '61death-response', '62assent-response', '63nonfl-response',\n",
      "       '64filler-response', 'Clareza', 'Atendimento', 'tempo_resposta'],\n",
      "      dtype='object', length=134)\n",
      "(13538, 134)\n",
      "2    9338\n",
      "0    4200\n",
      "Name: Atendimento, dtype: int64\n",
      "2    9338\n",
      "0    4200\n",
      "Name: Atendimento, dtype: int64\n"
     ]
    }
   ],
   "source": [
    "#Variables\n",
    "label='Atendimento'\n",
    "exp = label + '-Unbalanced-Binary'\n",
    "base_path = 'D:/03. Documentos/Mestrado/22032020 - Experimentos/05. Organizado/03. Datasets/'+exp\n",
    "save_path = 'output'\n",
    "data='resp-text'\n",
    "\n",
    "# Models to be loaded\n",
    "reglog_model_path = 'D:/03. Documentos/Mestrado/22032020 - Experimentos/05. Organizado/02. Notebooks/01. '+label+'/03. Resposta/output'\n",
    "reglog_model_name = '2020_05_12_10_43_58_Atendimento_Resposta_Binary_Unbalanced.sav'\n",
    "bilstm_mha_model_path = 'D:/Outputs_Mestrado/resultados_Atendimento/checkpoints_resposta_keras_BiLSTM_mha_binary_unbalanced'\n",
    "bilstm_mha_model_name = '20200518_104250/model.h5'\n",
    "\n",
    "x_train_file = 'X_train.csv'\n",
    "y_train_file = 'y_train.csv'\n",
    "x_test_file = 'X_test.csv'\n",
    "y_test_file = 'y_test.csv'\n",
    "\n",
    "#Load data\n",
    "X_train = pd.read_csv(os.path.join(base_path, x_train_file), sep=';', encoding='utf-8')\n",
    "y_train = pd.read_csv(os.path.join(base_path, y_train_file), sep=';', encoding='utf-8')\n",
    "X_test = pd.read_csv(os.path.join(base_path, x_test_file), sep=';', encoding='utf-8')\n",
    "y_test = pd.read_csv(os.path.join(base_path, y_test_file), sep=';', encoding='utf-8')\n",
    "\n",
    "#Checking on data\n",
    "print(X_test.columns)\n",
    "print(X_test.shape)\n",
    "print(y_test[label].value_counts())\n",
    "print(y_test[label].value_counts())"
   ]
  },
  {
   "cell_type": "code",
   "execution_count": 5,
   "metadata": {},
   "outputs": [],
   "source": [
    "# load the RegLog model from disk\n",
    "reglog_model = pickle.load(open(os.path.join(reglog_model_path, reglog_model_name), 'rb'))\n",
    "bilstm_mha = load_model(os.path.join(bilstm_mha_model_path, bilstm_mha_model_name),\n",
    "                        custom_objects={'MultiHeadAttention': MultiHeadAttention,\n",
    "                                        'recall_m': recall_m,\n",
    "                                        'precision_m': precision_m,\n",
    "                                        'f1_m': f1_m})"
   ]
  },
  {
   "cell_type": "code",
   "execution_count": 6,
   "metadata": {},
   "outputs": [],
   "source": [
    "max_num_words = bilstm_mha._layers[1]._trainable_weights[0].shape[0]\n",
    "max_length = bilstm_mha.inputs[0].shape[1]"
   ]
  },
  {
   "cell_type": "code",
   "execution_count": 7,
   "metadata": {},
   "outputs": [],
   "source": [
    "# PREDICT TRAIN\n",
    "y_pred_reglog_train = reglog_model.predict(X_train[data])\n",
    "y_pred_reglog_prob_train = reglog_model.predict_proba(X_train[data])\n",
    "\n",
    "# PREDICT TEST\n",
    "y_pred_reglog_test = reglog_model.predict(X_test[data])\n",
    "y_pred_reglog_prob_test = reglog_model.predict_proba(X_test[data])"
   ]
  },
  {
   "cell_type": "code",
   "execution_count": 8,
   "metadata": {},
   "outputs": [
    {
     "name": "stdout",
     "output_type": "stream",
     "text": [
      "Found 80284 unique tokens.\n"
     ]
    }
   ],
   "source": [
    "# Define tokenizer and fit train data\n",
    "t = Tokenizer(num_words=max_num_words)\n",
    "t.fit_on_texts(X_train[data].append(X_test[data]))\n",
    "word_index = t.word_index\n",
    "vocab_size = len(word_index) + 1\n",
    "print('Found %s unique tokens.' % len(word_index))\n",
    "    \n",
    "def get_seqs(text):    \n",
    "    sequences = t.texts_to_sequences(text)\n",
    "    padded_sequences = pad_sequences(sequences, maxlen=max_length, padding='post')\n",
    "    return padded_sequences\n",
    "\n",
    "# prepare target\n",
    "def prepare_targets(y_train, y_test):\n",
    "    le = LabelEncoder()\n",
    "    le.fit(y_train)\n",
    "    y_train_enc = le.transform(y_train)\n",
    "    y_test_enc = le.transform(y_test)\n",
    "    return pd.get_dummies(y_train_enc), pd.get_dummies(y_test_enc)\n",
    "\n",
    "# X and Y\n",
    "label_train, label_test = prepare_targets(y_train[label].values, y_test[label].values)\n",
    "num_labels = len(set(label_train))\n",
    "input_train = get_seqs(X_train[data])\n",
    "input_test = get_seqs(X_test[data])"
   ]
  },
  {
   "cell_type": "code",
   "execution_count": 9,
   "metadata": {},
   "outputs": [],
   "source": [
    "# PREDICT TRAIN\n",
    "y_pred_bilstm_mha_prob_train = bilstm_mha.predict(input_train)\n",
    "y_pred_bilstm_mha_train = np.argmax(y_pred_bilstm_mha_prob_train, axis=1)\n",
    "\n",
    "# PREDICT TEST\n",
    "y_pred_bilstm_mha_prob_test = bilstm_mha.predict(input_test)\n",
    "y_pred_bilstm_mha_test = np.argmax(y_pred_bilstm_mha_prob_test, axis=1)"
   ]
  },
  {
   "cell_type": "code",
   "execution_count": 10,
   "metadata": {},
   "outputs": [],
   "source": [
    "pipe = Pipeline([\n",
    "    ('clf', LogisticRegression(random_state=seed, max_iter=1000, n_jobs=6, solver='lbfgs'))\n",
    "])\n",
    "\n",
    "parameters = {\n",
    "        'clf__C': (0.001, 0.01, 0.1, 1, 10, 100, 1000),\n",
    "}\n",
    "\n",
    "grid_search_ensemble = GridSearchCV(pipe,\n",
    "                               parameters,\n",
    "                               cv=10,\n",
    "                               scoring='f1_macro',\n",
    "                               n_jobs=-1,\n",
    "                               verbose=False)"
   ]
  },
  {
   "cell_type": "code",
   "execution_count": 18,
   "metadata": {},
   "outputs": [
    {
     "data": {
      "text/html": [
       "<div>\n",
       "<style scoped>\n",
       "    .dataframe tbody tr th:only-of-type {\n",
       "        vertical-align: middle;\n",
       "    }\n",
       "\n",
       "    .dataframe tbody tr th {\n",
       "        vertical-align: top;\n",
       "    }\n",
       "\n",
       "    .dataframe thead th {\n",
       "        text-align: right;\n",
       "    }\n",
       "</style>\n",
       "<table border=\"1\" class=\"dataframe\">\n",
       "  <thead>\n",
       "    <tr style=\"text-align: right;\">\n",
       "      <th></th>\n",
       "      <th>reglog_0</th>\n",
       "      <th>reglog_2</th>\n",
       "      <th>bilstm_mha_0</th>\n",
       "      <th>bilstm_mha_2</th>\n",
       "      <th>Atendimento</th>\n",
       "    </tr>\n",
       "  </thead>\n",
       "  <tbody>\n",
       "    <tr>\n",
       "      <th>0</th>\n",
       "      <td>0.610433</td>\n",
       "      <td>0.389567</td>\n",
       "      <td>0.476075</td>\n",
       "      <td>0.523925</td>\n",
       "      <td>2</td>\n",
       "    </tr>\n",
       "    <tr>\n",
       "      <th>1</th>\n",
       "      <td>0.748480</td>\n",
       "      <td>0.251520</td>\n",
       "      <td>0.694292</td>\n",
       "      <td>0.305708</td>\n",
       "      <td>2</td>\n",
       "    </tr>\n",
       "    <tr>\n",
       "      <th>2</th>\n",
       "      <td>0.417644</td>\n",
       "      <td>0.582356</td>\n",
       "      <td>0.036183</td>\n",
       "      <td>0.963817</td>\n",
       "      <td>2</td>\n",
       "    </tr>\n",
       "    <tr>\n",
       "      <th>3</th>\n",
       "      <td>0.173469</td>\n",
       "      <td>0.826531</td>\n",
       "      <td>0.045413</td>\n",
       "      <td>0.954587</td>\n",
       "      <td>2</td>\n",
       "    </tr>\n",
       "    <tr>\n",
       "      <th>4</th>\n",
       "      <td>0.198159</td>\n",
       "      <td>0.801841</td>\n",
       "      <td>0.095819</td>\n",
       "      <td>0.904181</td>\n",
       "      <td>2</td>\n",
       "    </tr>\n",
       "  </tbody>\n",
       "</table>\n",
       "</div>"
      ],
      "text/plain": [
       "   reglog_0  reglog_2  bilstm_mha_0  bilstm_mha_2  Atendimento\n",
       "0  0.610433  0.389567      0.476075      0.523925            2\n",
       "1  0.748480  0.251520      0.694292      0.305708            2\n",
       "2  0.417644  0.582356      0.036183      0.963817            2\n",
       "3  0.173469  0.826531      0.045413      0.954587            2\n",
       "4  0.198159  0.801841      0.095819      0.904181            2"
      ]
     },
     "execution_count": 18,
     "metadata": {},
     "output_type": "execute_result"
    }
   ],
   "source": [
    "df_prob_reglog_train = pd.DataFrame(y_pred_reglog_prob_train, columns=['reglog_0', 'reglog_2'])\n",
    "df_prob_bilstm_mha_train = pd.DataFrame(y_pred_bilstm_mha_prob_train, columns=['bilstm_mha_0', 'bilstm_mha_2'])\n",
    "df_y_train = pd.DataFrame(y_train[label], columns=[label]).reset_index(drop=True)\n",
    "df_probs_train = pd.concat([df_prob_reglog_train, df_prob_bilstm_mha_train, y_train[label]], axis=1)\n",
    "\n",
    "df_probs_train.head()"
   ]
  },
  {
   "cell_type": "code",
   "execution_count": 19,
   "metadata": {},
   "outputs": [
    {
     "name": "stdout",
     "output_type": "stream",
     "text": [
      "Executando Gridsearch para Classe Atendimento - resp-text\n",
      "20200607_105211\n",
      "done in 1.758s\n",
      "Best score: 0.810\n",
      "Best parameters set:\n",
      "\tclf__C: 100\n"
     ]
    }
   ],
   "source": [
    "print(\"Executando Gridsearch para Classe \" + label + \" - \" + data)\n",
    "\n",
    "# Time now\n",
    "now = datetime.now().strftime(\"%Y%m%d_%H%M%S\")\n",
    "print(now)\n",
    "\n",
    "t0 = time()\n",
    "grid_search_ensemble.fit(df_probs_train.iloc[:, :-1], df_probs_train[label])\n",
    "print(\"done in %0.3fs\" % (time() - t0))\n",
    "print(\"Best score: %0.3f\" % grid_search_ensemble.best_score_)\n",
    "print(\"Best parameters set:\")\n",
    "best_parameters_ensemble = grid_search_ensemble.best_estimator_.get_params()\n",
    "for param_name in sorted(parameters.keys()):\n",
    "    print(\"\\t%s: %r\" % (param_name, best_parameters_ensemble[param_name]))"
   ]
  },
  {
   "cell_type": "code",
   "execution_count": 20,
   "metadata": {},
   "outputs": [],
   "source": [
    "f_save = now + '_Ensemble_LR_' + exp + '_' + label + '.sav'\n",
    "pickle.dump(grid_search_ensemble, open(f_save,'wb'))"
   ]
  },
  {
   "cell_type": "code",
   "execution_count": 21,
   "metadata": {},
   "outputs": [
    {
     "data": {
      "text/html": [
       "<div>\n",
       "<style scoped>\n",
       "    .dataframe tbody tr th:only-of-type {\n",
       "        vertical-align: middle;\n",
       "    }\n",
       "\n",
       "    .dataframe tbody tr th {\n",
       "        vertical-align: top;\n",
       "    }\n",
       "\n",
       "    .dataframe thead th {\n",
       "        text-align: right;\n",
       "    }\n",
       "</style>\n",
       "<table border=\"1\" class=\"dataframe\">\n",
       "  <thead>\n",
       "    <tr style=\"text-align: right;\">\n",
       "      <th></th>\n",
       "      <th>reglog_0</th>\n",
       "      <th>reglog_2</th>\n",
       "      <th>bilstm_mha_0</th>\n",
       "      <th>bilstm_mha_2</th>\n",
       "      <th>Atendimento</th>\n",
       "    </tr>\n",
       "  </thead>\n",
       "  <tbody>\n",
       "    <tr>\n",
       "      <th>0</th>\n",
       "      <td>0.270777</td>\n",
       "      <td>0.729223</td>\n",
       "      <td>0.046237</td>\n",
       "      <td>0.953763</td>\n",
       "      <td>0</td>\n",
       "    </tr>\n",
       "    <tr>\n",
       "      <th>1</th>\n",
       "      <td>0.260416</td>\n",
       "      <td>0.739584</td>\n",
       "      <td>0.185145</td>\n",
       "      <td>0.814855</td>\n",
       "      <td>0</td>\n",
       "    </tr>\n",
       "    <tr>\n",
       "      <th>2</th>\n",
       "      <td>0.353563</td>\n",
       "      <td>0.646437</td>\n",
       "      <td>0.586221</td>\n",
       "      <td>0.413779</td>\n",
       "      <td>0</td>\n",
       "    </tr>\n",
       "    <tr>\n",
       "      <th>3</th>\n",
       "      <td>0.385882</td>\n",
       "      <td>0.614118</td>\n",
       "      <td>0.125452</td>\n",
       "      <td>0.874548</td>\n",
       "      <td>0</td>\n",
       "    </tr>\n",
       "    <tr>\n",
       "      <th>4</th>\n",
       "      <td>0.777964</td>\n",
       "      <td>0.222036</td>\n",
       "      <td>0.908042</td>\n",
       "      <td>0.091958</td>\n",
       "      <td>0</td>\n",
       "    </tr>\n",
       "  </tbody>\n",
       "</table>\n",
       "</div>"
      ],
      "text/plain": [
       "   reglog_0  reglog_2  bilstm_mha_0  bilstm_mha_2  Atendimento\n",
       "0  0.270777  0.729223      0.046237      0.953763            0\n",
       "1  0.260416  0.739584      0.185145      0.814855            0\n",
       "2  0.353563  0.646437      0.586221      0.413779            0\n",
       "3  0.385882  0.614118      0.125452      0.874548            0\n",
       "4  0.777964  0.222036      0.908042      0.091958            0"
      ]
     },
     "execution_count": 21,
     "metadata": {},
     "output_type": "execute_result"
    }
   ],
   "source": [
    "df_prob_reglog_test = pd.DataFrame(y_pred_reglog_prob_test, columns=['reglog_0', 'reglog_2'])\n",
    "df_prob_bilstm_mha_test = pd.DataFrame(y_pred_bilstm_mha_prob_test, columns=['bilstm_mha_0', 'bilstm_mha_2'])\n",
    "df_y_test = pd.DataFrame(y_test[label], columns=[label]).reset_index(drop=True)\n",
    "df_probs_test = pd.concat([df_prob_reglog_test, df_prob_bilstm_mha_test, y_test[label]], axis=1)\n",
    "\n",
    "df_probs_test.head()"
   ]
  },
  {
   "cell_type": "code",
   "execution_count": 23,
   "metadata": {},
   "outputs": [],
   "source": [
    "y_pred_ensemble = grid_search_ensemble.predict(df_probs_test.iloc[:, :-1])"
   ]
  },
  {
   "cell_type": "code",
   "execution_count": 24,
   "metadata": {},
   "outputs": [
    {
     "name": "stdout",
     "output_type": "stream",
     "text": [
      "##################################################\n",
      "Report for TEST\n",
      "##################################################\n",
      "              precision    recall  f1-score   support\n",
      "\n",
      "           0       0.60      0.50      0.54      4200\n",
      "           2       0.79      0.85      0.82      9338\n",
      "\n",
      "    accuracy                           0.74     13538\n",
      "   macro avg       0.69      0.67      0.68     13538\n",
      "weighted avg       0.73      0.74      0.73     13538\n",
      "\n"
     ]
    }
   ],
   "source": [
    "print('#'*50)\n",
    "print('Report for TEST')\n",
    "print('#'*50)\n",
    "print(classification_report(df_probs_test.iloc[:,-1], y_pred_ensemble))"
   ]
  },
  {
   "cell_type": "code",
   "execution_count": null,
   "metadata": {},
   "outputs": [],
   "source": []
  }
 ],
 "metadata": {
  "kernelspec": {
   "display_name": "keras_env",
   "language": "python",
   "name": "keras_env"
  },
  "language_info": {
   "codemirror_mode": {
    "name": "ipython",
    "version": 3
   },
   "file_extension": ".py",
   "mimetype": "text/x-python",
   "name": "python",
   "nbconvert_exporter": "python",
   "pygments_lexer": "ipython3",
   "version": "3.7.7"
  }
 },
 "nbformat": 4,
 "nbformat_minor": 4
}
